{
 "cells": [
  {
   "cell_type": "markdown",
   "metadata": {},
   "source": [
    "# Sentiment Analysis of Reviews"
   ]
  },
  {
   "cell_type": "code",
   "execution_count": 1,
   "metadata": {},
   "outputs": [
    {
     "name": "stderr",
     "output_type": "stream",
     "text": [
      "[nltk_data] Downloading package stopwords to\n",
      "[nltk_data]     C:\\Users\\prath\\AppData\\Roaming\\nltk_data...\n",
      "[nltk_data]   Package stopwords is already up-to-date!\n"
     ]
    }
   ],
   "source": [
    "# Importing all the necessary packages\n",
    "import pandas\n",
    "import string\n",
    "import nltk\n",
    "nltk.download('stopwords')\n",
    "from nltk.corpus import stopwords\n",
    "from nltk.stem.porter import PorterStemmer\n",
    "import re\n",
    "from sklearn.model_selection import train_test_split\n",
    "from sklearn.feature_extraction.text import TfidfVectorizer\n",
    "from sklearn.feature_extraction.text import CountVectorizer\n",
    "from sklearn.naive_bayes import MultinomialNB\n",
    "from sklearn import metrics\n",
    "import seaborn as sns\n",
    "import matplotlib.pyplot as plt\n",
    "import numpy as np\n",
    "from sklearn.metrics import confusion_matrix\n",
    "from sklearn import model_selection, naive_bayes, svm"
   ]
  },
  {
   "cell_type": "markdown",
   "metadata": {},
   "source": [
    "## Reading the data from \"car_reviews.csv\" into a data frame"
   ]
  },
  {
   "cell_type": "code",
   "execution_count": 2,
   "metadata": {},
   "outputs": [
    {
     "data": {
      "text/html": [
       "<div>\n",
       "<style scoped>\n",
       "    .dataframe tbody tr th:only-of-type {\n",
       "        vertical-align: middle;\n",
       "    }\n",
       "\n",
       "    .dataframe tbody tr th {\n",
       "        vertical-align: top;\n",
       "    }\n",
       "\n",
       "    .dataframe thead th {\n",
       "        text-align: right;\n",
       "    }\n",
       "</style>\n",
       "<table border=\"1\" class=\"dataframe\">\n",
       "  <thead>\n",
       "    <tr style=\"text-align: right;\">\n",
       "      <th></th>\n",
       "      <th>Sentiment</th>\n",
       "      <th>Review</th>\n",
       "    </tr>\n",
       "  </thead>\n",
       "  <tbody>\n",
       "    <tr>\n",
       "      <th>0</th>\n",
       "      <td>Neg</td>\n",
       "      <td>In 1992 we bought a new Taurus and we really ...</td>\n",
       "    </tr>\n",
       "    <tr>\n",
       "      <th>1</th>\n",
       "      <td>Neg</td>\n",
       "      <td>The last business trip  I drove to San Franci...</td>\n",
       "    </tr>\n",
       "    <tr>\n",
       "      <th>2</th>\n",
       "      <td>Neg</td>\n",
       "      <td>My husband and I purchased a 1990 Ford F250 a...</td>\n",
       "    </tr>\n",
       "    <tr>\n",
       "      <th>3</th>\n",
       "      <td>Neg</td>\n",
       "      <td>I feel I have a thorough opinion of this truc...</td>\n",
       "    </tr>\n",
       "    <tr>\n",
       "      <th>4</th>\n",
       "      <td>Neg</td>\n",
       "      <td>AS a mother of 3  all of whom are still in ca...</td>\n",
       "    </tr>\n",
       "  </tbody>\n",
       "</table>\n",
       "</div>"
      ],
      "text/plain": [
       "  Sentiment                                             Review\n",
       "0       Neg   In 1992 we bought a new Taurus and we really ...\n",
       "1       Neg   The last business trip  I drove to San Franci...\n",
       "2       Neg   My husband and I purchased a 1990 Ford F250 a...\n",
       "3       Neg   I feel I have a thorough opinion of this truc...\n",
       "4       Neg   AS a mother of 3  all of whom are still in ca..."
      ]
     },
     "execution_count": 2,
     "metadata": {},
     "output_type": "execute_result"
    }
   ],
   "source": [
    "# import data from csv file to data frame\n",
    "\n",
    "dataset = pandas.read_csv('car_reviews.csv', delimiter = ',')\n",
    "dataset.head()"
   ]
  },
  {
   "cell_type": "code",
   "execution_count": 3,
   "metadata": {},
   "outputs": [
    {
     "name": "stdout",
     "output_type": "stream",
     "text": [
      "<class 'pandas.core.frame.DataFrame'>\n",
      "RangeIndex: 1382 entries, 0 to 1381\n",
      "Data columns (total 2 columns):\n",
      " #   Column     Non-Null Count  Dtype \n",
      "---  ------     --------------  ----- \n",
      " 0   Sentiment  1382 non-null   object\n",
      " 1   Review     1382 non-null   object\n",
      "dtypes: object(2)\n",
      "memory usage: 21.7+ KB\n",
      "\n"
     ]
    },
    {
     "data": {
      "text/plain": [
       "Pos    691\n",
       "Neg    691\n",
       "Name: Sentiment, dtype: int64"
      ]
     },
     "execution_count": 3,
     "metadata": {},
     "output_type": "execute_result"
    }
   ],
   "source": [
    "# Dataset info\n",
    "\n",
    "dataset.info()\n",
    "print()\n",
    "dataset.Sentiment.value_counts()"
   ]
  },
  {
   "cell_type": "code",
   "execution_count": 4,
   "metadata": {},
   "outputs": [
    {
     "data": {
      "text/html": [
       "<div>\n",
       "<style scoped>\n",
       "    .dataframe tbody tr th:only-of-type {\n",
       "        vertical-align: middle;\n",
       "    }\n",
       "\n",
       "    .dataframe tbody tr th {\n",
       "        vertical-align: top;\n",
       "    }\n",
       "\n",
       "    .dataframe thead th {\n",
       "        text-align: right;\n",
       "    }\n",
       "</style>\n",
       "<table border=\"1\" class=\"dataframe\">\n",
       "  <thead>\n",
       "    <tr style=\"text-align: right;\">\n",
       "      <th></th>\n",
       "      <th>Sentiment</th>\n",
       "      <th>Review</th>\n",
       "    </tr>\n",
       "  </thead>\n",
       "  <tbody>\n",
       "    <tr>\n",
       "      <th>0</th>\n",
       "      <td>0</td>\n",
       "      <td>In 1992 we bought a new Taurus and we really ...</td>\n",
       "    </tr>\n",
       "    <tr>\n",
       "      <th>1</th>\n",
       "      <td>0</td>\n",
       "      <td>The last business trip  I drove to San Franci...</td>\n",
       "    </tr>\n",
       "    <tr>\n",
       "      <th>2</th>\n",
       "      <td>0</td>\n",
       "      <td>My husband and I purchased a 1990 Ford F250 a...</td>\n",
       "    </tr>\n",
       "    <tr>\n",
       "      <th>3</th>\n",
       "      <td>0</td>\n",
       "      <td>I feel I have a thorough opinion of this truc...</td>\n",
       "    </tr>\n",
       "    <tr>\n",
       "      <th>4</th>\n",
       "      <td>0</td>\n",
       "      <td>AS a mother of 3  all of whom are still in ca...</td>\n",
       "    </tr>\n",
       "  </tbody>\n",
       "</table>\n",
       "</div>"
      ],
      "text/plain": [
       "   Sentiment                                             Review\n",
       "0          0   In 1992 we bought a new Taurus and we really ...\n",
       "1          0   The last business trip  I drove to San Franci...\n",
       "2          0   My husband and I purchased a 1990 Ford F250 a...\n",
       "3          0   I feel I have a thorough opinion of this truc...\n",
       "4          0   AS a mother of 3  all of whom are still in ca..."
      ]
     },
     "execution_count": 4,
     "metadata": {},
     "output_type": "execute_result"
    }
   ],
   "source": [
    "# Assigning 0 to Neg and 1 to Pos in Sentiment column\n",
    "\n",
    "sentiment = {'Neg': 0,'Pos': 1}\n",
    "dataset.Sentiment = [sentiment[item] for item in dataset.Sentiment]\n",
    "dataset.head()"
   ]
  },
  {
   "cell_type": "code",
   "execution_count": 5,
   "metadata": {},
   "outputs": [
    {
     "name": "stdout",
     "output_type": "stream",
     "text": [
      "<class 'pandas.core.frame.DataFrame'>\n",
      "RangeIndex: 1382 entries, 0 to 1381\n",
      "Data columns (total 2 columns):\n",
      " #   Column     Non-Null Count  Dtype \n",
      "---  ------     --------------  ----- \n",
      " 0   Sentiment  1382 non-null   int64 \n",
      " 1   Review     1382 non-null   object\n",
      "dtypes: int64(1), object(1)\n",
      "memory usage: 21.7+ KB\n",
      "\n"
     ]
    },
    {
     "data": {
      "text/plain": [
       "1    691\n",
       "0    691\n",
       "Name: Sentiment, dtype: int64"
      ]
     },
     "execution_count": 5,
     "metadata": {},
     "output_type": "execute_result"
    }
   ],
   "source": [
    "dataset.info()\n",
    "print()\n",
    "dataset.Sentiment.value_counts()"
   ]
  },
  {
   "cell_type": "markdown",
   "metadata": {},
   "source": [
    "## Pre-processing the Reviews\n",
    "\n",
    "text_preprocess() function will perform operations such as:\n",
    "- removing punctuations\n",
    "- removing non-letters\n",
    "- converting strings to lower case\n",
    "- removing stopwords\n",
    "- stemming"
   ]
  },
  {
   "cell_type": "code",
   "execution_count": 6,
   "metadata": {},
   "outputs": [],
   "source": [
    "# Function to perform text pre-processing on the \"Review\" Column\n",
    "\n",
    "def text_preprocess(text):\n",
    "    \n",
    "    # removing punctuation\n",
    "    text_wo_punctuation = text.translate(str.maketrans('', '', string.punctuation))\n",
    "    \n",
    "    # remove non-letters\n",
    "    text_letters_only = re.sub(\"[^a-zA-Z]\", \" \", text_wo_punctuation)\n",
    "    \n",
    "    # convert to lowercase\n",
    "    text_lower_case = text_letters_only.lower()\n",
    "    \n",
    "    # removing stopwords\n",
    "    text_wo_stopwords = \" \".join([word for word in str(text_lower_case).split() if word not in set(stopwords.words('english'))])\n",
    "\n",
    "    # applying stemming\n",
    "    stemmer = PorterStemmer()\n",
    "    text_stem = \" \".join([stemmer.stem(word) for word in text_wo_stopwords.split() if len(word) > 2])\n",
    "    \n",
    "    return text_stem"
   ]
  },
  {
   "cell_type": "markdown",
   "metadata": {},
   "source": [
    "### Demostrating text pre-processing of reviews\n",
    "\n",
    "To perform the text pre-processing of reviews a custom function text_preprocess() is defined which performs operations that are mentioned above section. For demonstration purpose the function is split into further functions:\n",
    "- demo_text_preprocessing() which removes the punctuation, non-letter characters and conver input text to lowercase\n",
    "- demo_remove_stopwords() which removes the stopwords present in the input text\n",
    "- demo_stemming() - performs stemming operation on all the words present in the input text and return words only that are more than 2 charactes\n",
    "\n",
    "The first 2 reviews from dataset are picked to demonstrate the text-preprocessing are stored in the list `review_list` and passed through the 3 functions mentioned above. Please find the output below which clearly shows the state of a review in different phases of pre-processing."
   ]
  },
  {
   "cell_type": "code",
   "execution_count": 7,
   "metadata": {},
   "outputs": [
    {
     "name": "stdout",
     "output_type": "stream",
     "text": [
      "Text pre-processing being appiled on review:  0\n",
      "===============================================\n",
      "\n",
      "Review before text pre-processing:\n",
      "----------------------------------\n",
      "\n",
      " In 1992 we bought a new Taurus and we really loved it  So in 1999 we decided to try a new Taurus  I did not care for the style of the newer version  but bought it anyway I do not like the new car half as much as i liked our other one  Thee dash is much to deep and takes up a lot of room  I do not find the seats as comfortable and the way the sides stick out further than the strip that should protect your card from denting It drives nice and has good pick up  But you can not see the hood at all from the driver seat and judging and parking is difficult  It has a very small gas tank I would not buy a Taurus if I had it to do over  I would rather have my 1992 back  I dont think the style is as nice as the the 1992  and it was a mistake to change the style  In less than a month we had a dead battery and a flat tire \n",
      "\n",
      "\n",
      "Review in lowercase with stopwords with removed punctuation, non-letter characters:\n",
      "-----------------------------------------------------------------------------------\n",
      "\n",
      " in      we bought a new taurus and we really loved it  so in      we decided to try a new taurus  i did not care for the style of the newer version  but bought it anyway i do not like the new car half as much as i liked our other one  thee dash is much to deep and takes up a lot of room  i do not find the seats as comfortable and the way the sides stick out further than the strip that should protect your card from denting it drives nice and has good pick up  but you can not see the hood at all from the driver seat and judging and parking is difficult  it has a very small gas tank i would not buy a taurus if i had it to do over  i would rather have my      back  i dont think the style is as nice as the the       and it was a mistake to change the style  in less than a month we had a dead battery and a flat tire \n",
      "\n",
      "List of stopwords elimated from Review:\n",
      "---------------------------------------\n",
      "\n",
      "['in', 'we', 'a', 'and', 'we', 'it', 'so', 'in', 'we', 'to', 'a', 'i', 'did', 'not', 'for', 'the', 'of', 'the', 'but', 'it', 'i', 'do', 'not', 'the', 'as', 'as', 'i', 'our', 'other', 'is', 'to', 'and', 'up', 'a', 'of', 'i', 'do', 'not', 'the', 'as', 'and', 'the', 'the', 'out', 'further', 'than', 'the', 'that', 'should', 'your', 'from', 'it', 'and', 'has', 'up', 'but', 'you', 'can', 'not', 'the', 'at', 'all', 'from', 'the', 'and', 'and', 'is', 'it', 'has', 'a', 'very', 'i', 'not', 'a', 'if', 'i', 'had', 'it', 'to', 'do', 'over', 'i', 'have', 'my', 'i', 'the', 'is', 'as', 'as', 'the', 'the', 'and', 'it', 'was', 'a', 'to', 'the', 'in', 'than', 'a', 'we', 'had', 'a', 'and', 'a']\n",
      "\n",
      "Review without stopwords before stemming:\n",
      "----------------------------------------\n",
      "\n",
      "bought new taurus really loved decided try new taurus care style newer version bought anyway like new car half much liked one thee dash much deep takes lot room find seats comfortable way sides stick strip protect card denting drives nice good pick see hood driver seat judging parking difficult small gas tank would buy taurus would rather back dont think style nice mistake change style less month dead battery flat tire\n",
      "\n",
      "Review after stemming:\n",
      "----------------------\n",
      "\n",
      "bought new tauru realli love decid tri new tauru care style newer version bought anyway like new car half much like one thee dash much deep take lot room find seat comfort way side stick strip protect card dent drive nice good pick see hood driver seat judg park difficult small ga tank would buy tauru would rather back dont think style nice mistak chang style less month dead batteri flat tire\n",
      "\n",
      "\n",
      "==========================================================================\n",
      "\n",
      "==========================================================================\n",
      "\n",
      "Text pre-processing being appiled on review:  1\n",
      "===============================================\n",
      "\n",
      "Review before text pre-processing:\n",
      "----------------------------------\n",
      "\n",
      " The last business trip  I drove to San Francisco  I went to Hertz Rentals and got a 1999 Ford Taurus  thinking it looked comfortable and professional  I found the seating to be uncomfortable for myself  as well as for my passenger Now  seating comfort may not be important to you  but it is to me The fuel usage was fine  the car did get us there with no problems  but  it was such an uncomfortable ride for both of us  It is not as though I am hard to fit into a car  I am 5 5  weigh 115 pounds  and I am usually quite comfortable in most any car  But  the Taurus seemed especially uncomfortable  For anyone who is thinking of renting a car for a long trip  I would suggest that the Ford Taurus  1999  not be on the list of  be sure to get this There was a large trunk that allowed us to pack a lot of materials needed for the business end of the trip  Driving it was a breeze  and everything  worked  right  I have no complaints about the standard making of the car  except in the comfort area  How important is comfort to you  On a long trip  being an uncomfortable driver is distracting to me  and it made the trip seem unnecessarily longer than it should have felt  I make this trip a lot  The Saturn would have been a better choice for me  as I have rented this model quite often  It offers comforts that the Taurus simply does not have If you are planning a long trip  or to buy a car that you intend to be comfortably seated in  check out the Taurus on a longer trial basis than you might another car  You may find the same thing happening to your comfort  \n",
      "\n",
      "\n",
      "Review in lowercase with stopwords with removed punctuation, non-letter characters:\n",
      "-----------------------------------------------------------------------------------\n",
      "\n",
      " the last business trip  i drove to san francisco  i went to hertz rentals and got a      ford taurus  thinking it looked comfortable and professional  i found the seating to be uncomfortable for myself  as well as for my passenger now  seating comfort may not be important to you  but it is to me the fuel usage was fine  the car did get us there with no problems  but  it was such an uncomfortable ride for both of us  it is not as though i am hard to fit into a car  i am      weigh     pounds  and i am usually quite comfortable in most any car  but  the taurus seemed especially uncomfortable  for anyone who is thinking of renting a car for a long trip  i would suggest that the ford taurus        not be on the list of  be sure to get this there was a large trunk that allowed us to pack a lot of materials needed for the business end of the trip  driving it was a breeze  and everything  worked  right  i have no complaints about the standard making of the car  except in the comfort area  how important is comfort to you  on a long trip  being an uncomfortable driver is distracting to me  and it made the trip seem unnecessarily longer than it should have felt  i make this trip a lot  the saturn would have been a better choice for me  as i have rented this model quite often  it offers comforts that the taurus simply does not have if you are planning a long trip  or to buy a car that you intend to be comfortably seated in  check out the taurus on a longer trial basis than you might another car  you may find the same thing happening to your comfort  \n",
      "\n",
      "List of stopwords elimated from Review:\n",
      "---------------------------------------\n",
      "\n",
      "['the', 'i', 'to', 'i', 'to', 'and', 'a', 'it', 'and', 'i', 'the', 'to', 'be', 'for', 'myself', 'as', 'as', 'for', 'my', 'now', 'not', 'be', 'to', 'you', 'but', 'it', 'is', 'to', 'me', 'the', 'was', 'the', 'did', 'there', 'with', 'no', 'but', 'it', 'was', 'such', 'an', 'for', 'both', 'of', 'it', 'is', 'not', 'as', 'i', 'am', 'to', 'into', 'a', 'i', 'am', 'and', 'i', 'am', 'in', 'most', 'any', 'but', 'the', 'for', 'who', 'is', 'of', 'a', 'for', 'a', 'i', 'that', 'the', 'not', 'be', 'on', 'the', 'of', 'be', 'to', 'this', 'there', 'was', 'a', 'that', 'to', 'a', 'of', 'for', 'the', 'of', 'the', 'it', 'was', 'a', 'and', 'i', 'have', 'no', 'about', 'the', 'of', 'the', 'in', 'the', 'how', 'is', 'to', 'you', 'on', 'a', 'being', 'an', 'is', 'to', 'me', 'and', 'it', 'the', 'than', 'it', 'should', 'have', 'i', 'this', 'a', 'the', 'have', 'been', 'a', 'for', 'me', 'as', 'i', 'have', 'this', 'it', 'that', 'the', 'does', 'not', 'have', 'if', 'you', 'are', 'a', 'or', 'to', 'a', 'that', 'you', 'to', 'be', 'in', 'out', 'the', 'on', 'a', 'than', 'you', 'you', 'the', 'same', 'to', 'your']\n",
      "\n",
      "Review without stopwords before stemming:\n",
      "----------------------------------------\n",
      "\n",
      "last business trip drove san francisco went hertz rentals got ford taurus thinking looked comfortable professional found seating uncomfortable well passenger seating comfort may important fuel usage fine car get us problems uncomfortable ride us though hard fit car weigh pounds usually quite comfortable car taurus seemed especially uncomfortable anyone thinking renting car long trip would suggest ford taurus list sure get large trunk allowed us pack lot materials needed business end trip driving breeze everything worked right complaints standard making car except comfort area important comfort long trip uncomfortable driver distracting made trip seem unnecessarily longer felt make trip lot saturn would better choice rented model quite often offers comforts taurus simply planning long trip buy car intend comfortably seated check taurus longer trial basis might another car may find thing happening comfort\n",
      "\n",
      "Review after stemming:\n",
      "----------------------\n",
      "\n",
      "last busi trip drove san francisco went hertz rental got ford tauru think look comfort profession found seat uncomfort well passeng seat comfort may import fuel usag fine car get problem uncomfort ride though hard fit car weigh pound usual quit comfort car tauru seem especi uncomfort anyon think rent car long trip would suggest ford tauru list sure get larg trunk allow pack lot materi need busi end trip drive breez everyth work right complaint standard make car except comfort area import comfort long trip uncomfort driver distract made trip seem unnecessarili longer felt make trip lot saturn would better choic rent model quit often offer comfort tauru simpli plan long trip buy car intend comfort seat check tauru longer trial basi might anoth car may find thing happen comfort\n",
      "\n",
      "\n",
      "==========================================================================\n",
      "\n",
      "==========================================================================\n",
      "\n"
     ]
    }
   ],
   "source": [
    "# Demostration of text pre-processing\n",
    "\n",
    "def demo_text_preprocessing(text):\n",
    "    print(\"Review before text pre-processing:\")\n",
    "    print(\"----------------------------------\\n\")\n",
    "    print(text)\n",
    "    print()\n",
    "    \n",
    "    # removing punctuation\n",
    "    text_wo_punctuation = text.translate(str.maketrans('', '', string.punctuation))\n",
    "    \n",
    "    # remove non-letters\n",
    "    text_letters_only = re.sub(\"[^a-zA-Z]\", \" \", text_wo_punctuation)\n",
    "    \n",
    "    # convert to lowercase\n",
    "    text_lower_case = text_letters_only.lower()\n",
    "    print()\n",
    "    \n",
    "    return text_lower_case\n",
    "\n",
    "def demo_remove_stopwords(text):\n",
    "    list_not_stopwords = []\n",
    "    list_stopwords = []\n",
    "    print(\"Review in lowercase with stopwords with removed punctuation, non-letter characters:\")\n",
    "    print(\"-----------------------------------------------------------------------------------\\n\")\n",
    "    print(text)\n",
    "    print()\n",
    "    for word in text.split():\n",
    "        if word not in set(stopwords.words('english')):\n",
    "            list_not_stopwords.append(word)\n",
    "        else:\n",
    "            list_stopwords.append(word)\n",
    "            \n",
    "    print(\"List of stopwords elimated from Review:\")\n",
    "    print(\"---------------------------------------\\n\")\n",
    "    print(list_stopwords)\n",
    "    print()\n",
    "    \n",
    "    print(\"Review without stopwords before stemming:\")\n",
    "    print(\"----------------------------------------\\n\")\n",
    "    text_wo_stopwords = \" \".join(list_not_stopwords)\n",
    "    print(text_wo_stopwords)\n",
    "    \n",
    "    return text_wo_stopwords\n",
    "    \n",
    "def demo_stemming(text):\n",
    "    stemmer = PorterStemmer()\n",
    "    text_stem = \" \".join([stemmer.stem(word) for word in text.split() if len(word) > 2])\n",
    "    print(\"Review after stemming:\")\n",
    "    print(\"----------------------\\n\")\n",
    "    print(text_stem)\n",
    "    \n",
    "    return text_stem\n",
    "        \n",
    "            \n",
    "review_list = dataset['Review'][0:2].to_list()\n",
    "\n",
    "review_list_pre_processed = []\n",
    "\n",
    "for i in review_list:\n",
    "    print(\"Text pre-processing being appiled on review: \", str(review_list.index(i)))\n",
    "    print(\"===============================================\\n\")\n",
    "    interm_text = demo_text_preprocessing(i)\n",
    "    text_wo_stopwords = demo_remove_stopwords(interm_text)\n",
    "    print()\n",
    "    text_stemming = demo_stemming(text_wo_stopwords)\n",
    "    print()\n",
    "    review_list_pre_processed.append(text_stemming)\n",
    "    print()\n",
    "    print(\"==========================================================================\\n\")\n",
    "    print(\"==========================================================================\\n\")\n"
   ]
  },
  {
   "cell_type": "markdown",
   "metadata": {},
   "source": [
    "The pre-processed reviews are stored in the list `review_list_pre_processed`. `CountVectorizer` is used to generate the `Bag of words` from the selected reviews and the `Bag of words` vector has been represented as a data frame with words and count of their respective occurances."
   ]
  },
  {
   "cell_type": "code",
   "execution_count": 8,
   "metadata": {},
   "outputs": [
    {
     "name": "stdout",
     "output_type": "stream",
     "text": [
      "List of Reviews:\n",
      "----------------\n",
      "\n",
      "['bought new tauru realli love decid tri new tauru care style newer version bought anyway like new car half much like one thee dash much deep take lot room find seat comfort way side stick strip protect card dent drive nice good pick see hood driver seat judg park difficult small ga tank would buy tauru would rather back dont think style nice mistak chang style less month dead batteri flat tire', 'last busi trip drove san francisco went hertz rental got ford tauru think look comfort profession found seat uncomfort well passeng seat comfort may import fuel usag fine car get problem uncomfort ride though hard fit car weigh pound usual quit comfort car tauru seem especi uncomfort anyon think rent car long trip would suggest ford tauru list sure get larg trunk allow pack lot materi need busi end trip drive breez everyth work right complaint standard make car except comfort area import comfort long trip uncomfort driver distract made trip seem unnecessarili longer felt make trip lot saturn would better choic rent model quit often offer comfort tauru simpli plan long trip buy car intend comfort seat check tauru longer trial basi might anoth car may find thing happen comfort']\n",
      "\n",
      "Vocabulary gained from the selected reviews:\n",
      "--------------------------------------------\n",
      "\n",
      "{'bought': 9, 'new': 77, 'tauru': 116, 'realli': 94, 'love': 66, 'decid': 23, 'tri': 122, 'care': 15, 'style': 111, 'newer': 78, 'version': 130, 'anyway': 3, 'like': 60, 'car': 13, 'half': 49, 'much': 75, 'one': 82, 'thee': 117, 'dash': 21, 'deep': 24, 'take': 114, 'lot': 65, 'room': 99, 'find': 37, 'seat': 102, 'comfort': 19, 'way': 131, 'side': 105, 'stick': 109, 'strip': 110, 'protect': 91, 'card': 14, 'dent': 25, 'drive': 29, 'nice': 79, 'good': 47, 'pick': 86, 'see': 103, 'hood': 53, 'driver': 30, 'judg': 56, 'park': 84, 'difficult': 26, 'small': 107, 'ga': 45, 'tank': 115, 'would': 136, 'buy': 12, 'rather': 93, 'back': 5, 'dont': 28, 'think': 119, 'mistak': 72, 'chang': 16, 'less': 59, 'month': 74, 'dead': 22, 'batteri': 7, 'flat': 40, 'tire': 121, 'last': 58, 'busi': 11, 'trip': 124, 'drove': 31, 'san': 100, 'francisco': 43, 'went': 134, 'hertz': 52, 'rental': 96, 'got': 48, 'ford': 41, 'look': 64, 'profession': 90, 'found': 42, 'uncomfort': 126, 'well': 133, 'passeng': 85, 'may': 70, 'import': 54, 'fuel': 44, 'usag': 128, 'fine': 38, 'get': 46, 'problem': 89, 'ride': 97, 'though': 120, 'hard': 51, 'fit': 39, 'weigh': 132, 'pound': 88, 'usual': 129, 'quit': 92, 'seem': 104, 'especi': 33, 'anyon': 2, 'rent': 95, 'long': 62, 'suggest': 112, 'list': 61, 'sure': 113, 'larg': 57, 'trunk': 125, 'allow': 0, 'pack': 83, 'materi': 69, 'need': 76, 'end': 32, 'breez': 10, 'everyth': 34, 'work': 135, 'right': 98, 'complaint': 20, 'standard': 108, 'make': 68, 'except': 35, 'area': 4, 'distract': 27, 'made': 67, 'unnecessarili': 127, 'longer': 63, 'felt': 36, 'saturn': 101, 'better': 8, 'choic': 18, 'model': 73, 'often': 81, 'offer': 80, 'simpli': 106, 'plan': 87, 'intend': 55, 'check': 17, 'trial': 123, 'basi': 6, 'might': 71, 'anoth': 1, 'thing': 118, 'happen': 50}\n",
      "\n",
      "countvector 'cv' represent in data frame format:\n",
      "------------------------------------------------\n",
      "\n"
     ]
    },
    {
     "data": {
      "text/html": [
       "<div>\n",
       "<style scoped>\n",
       "    .dataframe tbody tr th:only-of-type {\n",
       "        vertical-align: middle;\n",
       "    }\n",
       "\n",
       "    .dataframe tbody tr th {\n",
       "        vertical-align: top;\n",
       "    }\n",
       "\n",
       "    .dataframe thead th {\n",
       "        text-align: right;\n",
       "    }\n",
       "</style>\n",
       "<table border=\"1\" class=\"dataframe\">\n",
       "  <thead>\n",
       "    <tr style=\"text-align: right;\">\n",
       "      <th></th>\n",
       "      <th>allow</th>\n",
       "      <th>anoth</th>\n",
       "      <th>anyon</th>\n",
       "      <th>anyway</th>\n",
       "      <th>area</th>\n",
       "      <th>back</th>\n",
       "      <th>basi</th>\n",
       "      <th>batteri</th>\n",
       "      <th>better</th>\n",
       "      <th>bought</th>\n",
       "      <th>...</th>\n",
       "      <th>unnecessarili</th>\n",
       "      <th>usag</th>\n",
       "      <th>usual</th>\n",
       "      <th>version</th>\n",
       "      <th>way</th>\n",
       "      <th>weigh</th>\n",
       "      <th>well</th>\n",
       "      <th>went</th>\n",
       "      <th>work</th>\n",
       "      <th>would</th>\n",
       "    </tr>\n",
       "  </thead>\n",
       "  <tbody>\n",
       "    <tr>\n",
       "      <th>0</th>\n",
       "      <td>0</td>\n",
       "      <td>0</td>\n",
       "      <td>0</td>\n",
       "      <td>1</td>\n",
       "      <td>0</td>\n",
       "      <td>1</td>\n",
       "      <td>0</td>\n",
       "      <td>1</td>\n",
       "      <td>0</td>\n",
       "      <td>2</td>\n",
       "      <td>...</td>\n",
       "      <td>0</td>\n",
       "      <td>0</td>\n",
       "      <td>0</td>\n",
       "      <td>1</td>\n",
       "      <td>1</td>\n",
       "      <td>0</td>\n",
       "      <td>0</td>\n",
       "      <td>0</td>\n",
       "      <td>0</td>\n",
       "      <td>2</td>\n",
       "    </tr>\n",
       "    <tr>\n",
       "      <th>1</th>\n",
       "      <td>1</td>\n",
       "      <td>1</td>\n",
       "      <td>1</td>\n",
       "      <td>0</td>\n",
       "      <td>1</td>\n",
       "      <td>0</td>\n",
       "      <td>1</td>\n",
       "      <td>0</td>\n",
       "      <td>1</td>\n",
       "      <td>0</td>\n",
       "      <td>...</td>\n",
       "      <td>1</td>\n",
       "      <td>1</td>\n",
       "      <td>1</td>\n",
       "      <td>0</td>\n",
       "      <td>0</td>\n",
       "      <td>1</td>\n",
       "      <td>1</td>\n",
       "      <td>1</td>\n",
       "      <td>1</td>\n",
       "      <td>2</td>\n",
       "    </tr>\n",
       "  </tbody>\n",
       "</table>\n",
       "<p>2 rows × 137 columns</p>\n",
       "</div>"
      ],
      "text/plain": [
       "   allow  anoth  anyon  anyway  area  back  basi  batteri  better  bought  \\\n",
       "0      0      0      0       1     0     1     0        1       0       2   \n",
       "1      1      1      1       0     1     0     1        0       1       0   \n",
       "\n",
       "   ...  unnecessarili  usag  usual  version  way  weigh  well  went  work  \\\n",
       "0  ...              0     0      0        1    1      0     0     0     0   \n",
       "1  ...              1     1      1        0    0      1     1     1     1   \n",
       "\n",
       "   would  \n",
       "0      2  \n",
       "1      2  \n",
       "\n",
       "[2 rows x 137 columns]"
      ]
     },
     "execution_count": 8,
     "metadata": {},
     "output_type": "execute_result"
    }
   ],
   "source": [
    "print(\"List of Reviews:\")\n",
    "print(\"----------------\\n\")\n",
    "print(review_list_pre_processed)\n",
    "print()\n",
    "cv = CountVectorizer()\n",
    "word_count = cv.fit_transform(review_list_pre_processed)\n",
    "print(\"Vocabulary gained from the selected reviews:\")\n",
    "print(\"--------------------------------------------\\n\")\n",
    "print(cv.vocabulary_)\n",
    "print()\n",
    "print(\"countvector 'cv' represent in data frame format:\")\n",
    "print(\"------------------------------------------------\\n\")\n",
    "cv_dataframe = pandas.DataFrame(word_count.toarray(),columns=cv.get_feature_names())\n",
    "cv_dataframe\n"
   ]
  },
  {
   "cell_type": "markdown",
   "metadata": {},
   "source": [
    "### text_preprocessing() being applied to 'Review' columm of dataset."
   ]
  },
  {
   "cell_type": "code",
   "execution_count": 9,
   "metadata": {},
   "outputs": [],
   "source": [
    "dataset['Clean_Review'] = dataset['Review'].apply(text_preprocess)"
   ]
  },
  {
   "cell_type": "code",
   "execution_count": 10,
   "metadata": {},
   "outputs": [
    {
     "data": {
      "text/html": [
       "<div>\n",
       "<style scoped>\n",
       "    .dataframe tbody tr th:only-of-type {\n",
       "        vertical-align: middle;\n",
       "    }\n",
       "\n",
       "    .dataframe tbody tr th {\n",
       "        vertical-align: top;\n",
       "    }\n",
       "\n",
       "    .dataframe thead th {\n",
       "        text-align: right;\n",
       "    }\n",
       "</style>\n",
       "<table border=\"1\" class=\"dataframe\">\n",
       "  <thead>\n",
       "    <tr style=\"text-align: right;\">\n",
       "      <th></th>\n",
       "      <th>Sentiment</th>\n",
       "      <th>Review</th>\n",
       "      <th>Clean_Review</th>\n",
       "    </tr>\n",
       "  </thead>\n",
       "  <tbody>\n",
       "    <tr>\n",
       "      <th>0</th>\n",
       "      <td>0</td>\n",
       "      <td>In 1992 we bought a new Taurus and we really ...</td>\n",
       "      <td>bought new tauru realli love decid tri new tau...</td>\n",
       "    </tr>\n",
       "    <tr>\n",
       "      <th>1</th>\n",
       "      <td>0</td>\n",
       "      <td>The last business trip  I drove to San Franci...</td>\n",
       "      <td>last busi trip drove san francisco went hertz ...</td>\n",
       "    </tr>\n",
       "    <tr>\n",
       "      <th>2</th>\n",
       "      <td>0</td>\n",
       "      <td>My husband and I purchased a 1990 Ford F250 a...</td>\n",
       "      <td>husband purchas ford noth problem own vehicl a...</td>\n",
       "    </tr>\n",
       "    <tr>\n",
       "      <th>3</th>\n",
       "      <td>0</td>\n",
       "      <td>I feel I have a thorough opinion of this truc...</td>\n",
       "      <td>feel thorough opinion truck compar post evalu ...</td>\n",
       "    </tr>\n",
       "    <tr>\n",
       "      <th>4</th>\n",
       "      <td>0</td>\n",
       "      <td>AS a mother of 3  all of whom are still in ca...</td>\n",
       "      <td>mother still carseat logic thing trade minivan...</td>\n",
       "    </tr>\n",
       "    <tr>\n",
       "      <th>...</th>\n",
       "      <td>...</td>\n",
       "      <td>...</td>\n",
       "      <td>...</td>\n",
       "    </tr>\n",
       "    <tr>\n",
       "      <th>1377</th>\n",
       "      <td>1</td>\n",
       "      <td>In June we bought the Sony Limited Edition Fo...</td>\n",
       "      <td>june bought soni limit edit focu sedan simpli ...</td>\n",
       "    </tr>\n",
       "    <tr>\n",
       "      <th>1378</th>\n",
       "      <td>1</td>\n",
       "      <td>After 140 000 miles  we decided to replace my...</td>\n",
       "      <td>mile decid replac wife toyota camri found new ...</td>\n",
       "    </tr>\n",
       "    <tr>\n",
       "      <th>1379</th>\n",
       "      <td>1</td>\n",
       "      <td>The Ford Focus is a great little record setti...</td>\n",
       "      <td>ford focu great littl record set car first car...</td>\n",
       "    </tr>\n",
       "    <tr>\n",
       "      <th>1380</th>\n",
       "      <td>1</td>\n",
       "      <td>I needed a new car because my hyundai excel 9...</td>\n",
       "      <td>need new car hyundai excel decid shop around n...</td>\n",
       "    </tr>\n",
       "    <tr>\n",
       "      <th>1381</th>\n",
       "      <td>1</td>\n",
       "      <td>The 2000 Ford Focus SE 4 door sedan has a spa...</td>\n",
       "      <td>ford focu door sedan spaciou interior solid fe...</td>\n",
       "    </tr>\n",
       "  </tbody>\n",
       "</table>\n",
       "<p>1382 rows × 3 columns</p>\n",
       "</div>"
      ],
      "text/plain": [
       "      Sentiment                                             Review  \\\n",
       "0             0   In 1992 we bought a new Taurus and we really ...   \n",
       "1             0   The last business trip  I drove to San Franci...   \n",
       "2             0   My husband and I purchased a 1990 Ford F250 a...   \n",
       "3             0   I feel I have a thorough opinion of this truc...   \n",
       "4             0   AS a mother of 3  all of whom are still in ca...   \n",
       "...         ...                                                ...   \n",
       "1377          1   In June we bought the Sony Limited Edition Fo...   \n",
       "1378          1   After 140 000 miles  we decided to replace my...   \n",
       "1379          1   The Ford Focus is a great little record setti...   \n",
       "1380          1   I needed a new car because my hyundai excel 9...   \n",
       "1381          1   The 2000 Ford Focus SE 4 door sedan has a spa...   \n",
       "\n",
       "                                           Clean_Review  \n",
       "0     bought new tauru realli love decid tri new tau...  \n",
       "1     last busi trip drove san francisco went hertz ...  \n",
       "2     husband purchas ford noth problem own vehicl a...  \n",
       "3     feel thorough opinion truck compar post evalu ...  \n",
       "4     mother still carseat logic thing trade minivan...  \n",
       "...                                                 ...  \n",
       "1377  june bought soni limit edit focu sedan simpli ...  \n",
       "1378  mile decid replac wife toyota camri found new ...  \n",
       "1379  ford focu great littl record set car first car...  \n",
       "1380  need new car hyundai excel decid shop around n...  \n",
       "1381  ford focu door sedan spaciou interior solid fe...  \n",
       "\n",
       "[1382 rows x 3 columns]"
      ]
     },
     "execution_count": 10,
     "metadata": {},
     "output_type": "execute_result"
    }
   ],
   "source": [
    "dataset"
   ]
  },
  {
   "cell_type": "code",
   "execution_count": 11,
   "metadata": {},
   "outputs": [
    {
     "name": "stdout",
     "output_type": "stream",
     "text": [
      "<class 'pandas.core.frame.DataFrame'>\n",
      "RangeIndex: 1382 entries, 0 to 1381\n",
      "Data columns (total 3 columns):\n",
      " #   Column        Non-Null Count  Dtype \n",
      "---  ------        --------------  ----- \n",
      " 0   Sentiment     1382 non-null   int64 \n",
      " 1   Review        1382 non-null   object\n",
      " 2   Clean_Review  1382 non-null   object\n",
      "dtypes: int64(1), object(2)\n",
      "memory usage: 32.5+ KB\n"
     ]
    }
   ],
   "source": [
    "dataset.info()"
   ]
  },
  {
   "cell_type": "markdown",
   "metadata": {},
   "source": [
    "### Splitting dataset into train and test - 80% and 20% respectively"
   ]
  },
  {
   "cell_type": "code",
   "execution_count": 12,
   "metadata": {},
   "outputs": [],
   "source": [
    "# splitting dataset into train and test\n",
    "\n",
    "X = dataset['Clean_Review']\n",
    "y = dataset['Sentiment']\n",
    "X_train, X_test, y_train, y_test = train_test_split(X, y, test_size=0.2, random_state=5)"
   ]
  },
  {
   "cell_type": "markdown",
   "metadata": {},
   "source": [
    "## Using Multinomial Naive Bayes model\n",
    "CountVectorizer is being used to create numerical feature vector for each document of the `train` reviews."
   ]
  },
  {
   "cell_type": "code",
   "execution_count": 13,
   "metadata": {},
   "outputs": [],
   "source": [
    "# creating countvector\n",
    "countvector = CountVectorizer(max_features=5000)\n",
    "cv_train_term = countvector.fit_transform(X_train)\n",
    "cv_test_term = countvector.transform(X_test)"
   ]
  },
  {
   "cell_type": "code",
   "execution_count": 14,
   "metadata": {},
   "outputs": [
    {
     "data": {
      "text/plain": [
       "MultinomialNB()"
      ]
     },
     "execution_count": 14,
     "metadata": {},
     "output_type": "execute_result"
    }
   ],
   "source": [
    "model = MultinomialNB()\n",
    "model.fit(cv_train_term, y_train)"
   ]
  },
  {
   "cell_type": "code",
   "execution_count": 15,
   "metadata": {},
   "outputs": [
    {
     "name": "stdout",
     "output_type": "stream",
     "text": [
      "Train Accuracy: 90.68 %\n",
      "Test Accuracy: 79.06 %\n"
     ]
    }
   ],
   "source": [
    "predictions_train = model.predict(cv_train_term)\n",
    "predictions_test = model.predict(cv_test_term)\n",
    "print('Train Accuracy:', round((metrics.accuracy_score(y_train, predictions_train) * 100),2),'%')\n",
    "print('Test Accuracy:', round((metrics.accuracy_score(y_test, predictions_test) * 100),2),'%')"
   ]
  },
  {
   "cell_type": "code",
   "execution_count": 16,
   "metadata": {},
   "outputs": [],
   "source": [
    "def plot_confusion_matrix(cm, title):\n",
    "    group_names = ['True Neg', 'False Pos', 'False Neg','True Pos']\n",
    "    group_counts = [\"{0:0.0f}\".format(value) for value in cm.flatten()]\n",
    "    group_percentages = [\"{0:.2%}\".format(value) for value in cm.flatten()/np.sum(cm)]\n",
    "    labels = [f\"{v1}\\n{v2}\\n{v3}\" for v1, v2, v3 in zip(group_names,group_counts,group_percentages)]\n",
    "    labels = np.asarray(labels).reshape(2,2)\n",
    "    ax = plt.axes()\n",
    "    sns.heatmap(cm, ax=ax, annot=labels, fmt='', cmap='Blues')\n",
    "    ax.set_title(title)\n",
    "    plt.show()"
   ]
  },
  {
   "cell_type": "markdown",
   "metadata": {},
   "source": [
    "### Confusion Matrix for Naive Bayes - Train and Test"
   ]
  },
  {
   "cell_type": "code",
   "execution_count": 17,
   "metadata": {},
   "outputs": [
    {
     "name": "stdout",
     "output_type": "stream",
     "text": [
      "Confusion Matrix for Naive Bayes Train: \n",
      "\n",
      "[[496  66]\n",
      " [ 37 506]]\n",
      "\n"
     ]
    },
    {
     "data": {
      "image/png": "[encoded data removed]",
      "text/plain": [
       "<Figure size 432x288 with 2 Axes>"
      ]
     },
     "metadata": {
      "needs_background": "light"
     },
     "output_type": "display_data"
    }
   ],
   "source": [
    "cm_train = confusion_matrix(y_train, predictions_train)\n",
    "cm_test = confusion_matrix(y_test, predictions_test)\n",
    "\n",
    "print(\"Confusion Matrix for Naive Bayes Train: \\n\")\n",
    "print(cm_train)\n",
    "print()\n",
    "plot_confusion_matrix(cm_train, 'Confusion Matrix for Naive Bayes Train')"
   ]
  },
  {
   "cell_type": "code",
   "execution_count": 18,
   "metadata": {},
   "outputs": [
    {
     "name": "stdout",
     "output_type": "stream",
     "text": [
      "Confusion Matrix for Naive Bayes Test: \n",
      "\n",
      "[[ 99  30]\n",
      " [ 28 120]]\n",
      "\n"
     ]
    },
    {
     "data": {
      "image/png": "[encoded data removed]",
      "text/plain": [
       "<Figure size 432x288 with 2 Axes>"
      ]
     },
     "metadata": {
      "needs_background": "light"
     },
     "output_type": "display_data"
    }
   ],
   "source": [
    "print(\"Confusion Matrix for Naive Bayes Test: \\n\")\n",
    "print(cm_test)\n",
    "print()\n",
    "plot_confusion_matrix(cm_test, 'Confusion Matrix for Naive Bayes Test')"
   ]
  },
  {
   "cell_type": "markdown",
   "metadata": {},
   "source": [
    "## Using Support Vector Machine Model\n",
    "\n",
    "Comparing other models to `Multinomial Naive Bayes`, I picked `Vector Machine Model` as I learned it has certain advantages to Naive Bayes in case of Sentiment Analysis especially when dealing with full length reviews.\n",
    "\n",
    "Also `TfidfVectorizer` is being used to vectorze the training reviews."
   ]
  },
  {
   "cell_type": "code",
   "execution_count": 19,
   "metadata": {},
   "outputs": [],
   "source": [
    "# Create word vectore of train reviews using tf_idf vectorizer\n",
    "Tfidf_vect = TfidfVectorizer(max_features=5000)\n",
    "Tfidf_train_term = Tfidf_vect.fit_transform(X_train)\n",
    "Tfidf_test_term = Tfidf_vect.transform(X_test)"
   ]
  },
  {
   "cell_type": "code",
   "execution_count": 20,
   "metadata": {},
   "outputs": [
    {
     "name": "stdout",
     "output_type": "stream",
     "text": [
      "Train Accuracy: 96.29 %\n",
      "Test Accuracy: 80.87 %\n"
     ]
    }
   ],
   "source": [
    "model_SVM = svm.SVC(C=1.0, kernel='linear', degree=3, gamma='auto')\n",
    "model_SVM.fit(Tfidf_train_term,y_train)\n",
    "# predict the labels on validation dataset\n",
    "predictions_train_SVM = model_SVM.predict(Tfidf_train_term)\n",
    "predictions_test_SVM = model_SVM.predict(Tfidf_test_term)\n",
    "# Use accuracy_score function to get the accuracy\n",
    "print('Train Accuracy:', round((metrics.accuracy_score(y_train, predictions_train_SVM) * 100),2),'%')\n",
    "print('Test Accuracy:', round((metrics.accuracy_score(y_test, predictions_test_SVM) * 100),2),'%')"
   ]
  },
  {
   "cell_type": "markdown",
   "metadata": {},
   "source": [
    "### Confusion Matrix for Naive Bayes - Train and Test"
   ]
  },
  {
   "cell_type": "code",
   "execution_count": 21,
   "metadata": {},
   "outputs": [
    {
     "name": "stdout",
     "output_type": "stream",
     "text": [
      "Confusion Matrix for Support Vector Machine Train: \n",
      "\n",
      "[[535  27]\n",
      " [ 14 529]]\n",
      "\n"
     ]
    },
    {
     "data": {
      "image/png": "[encoded data removed]",
      "text/plain": [
       "<Figure size 432x288 with 2 Axes>"
      ]
     },
     "metadata": {
      "needs_background": "light"
     },
     "output_type": "display_data"
    }
   ],
   "source": [
    "cm_svg_train = confusion_matrix(y_train, predictions_train_SVM)\n",
    "cm_svg_test = confusion_matrix(y_test, predictions_test_SVM)\n",
    "\n",
    "print(\"Confusion Matrix for Support Vector Machine Train: \\n\")\n",
    "print(cm_svg_train)\n",
    "print()\n",
    "plot_confusion_matrix(cm_svg_train, 'Confusion Matrix for Support Vector Machine Train')"
   ]
  },
  {
   "cell_type": "code",
   "execution_count": 22,
   "metadata": {},
   "outputs": [
    {
     "name": "stdout",
     "output_type": "stream",
     "text": [
      "Confusion Matrix for Support Vector Machine Test: \n",
      "\n",
      "[[ 97  32]\n",
      " [ 21 127]]\n",
      "\n"
     ]
    },
    {
     "data": {
      "image/png": "[encoded data removed]",
      "text/plain": [
       "<Figure size 432x288 with 2 Axes>"
      ]
     },
     "metadata": {
      "needs_background": "light"
     },
     "output_type": "display_data"
    }
   ],
   "source": [
    "print(\"Confusion Matrix for Support Vector Machine Test: \\n\")\n",
    "print(cm_svg_test)\n",
    "print()\n",
    "plot_confusion_matrix(cm_svg_test, 'Confusion Matrix for Support Vector Machine Test')"
   ]
  },
  {
   "cell_type": "markdown",
   "metadata": {},
   "source": [
    "### References:"
   ]
  },
  {
   "cell_type": "markdown",
   "metadata": {},
   "source": [
    "1. Sida Wang and Christopher D. Manning, Title. Baselines and Bigrams: Simple, Good Sentiment and Topic Classification [Online]. Available from: https://nlp.stanford.edu/pubs/sidaw12_simple_sentiment.pdf"
   ]
  }
 ],
 "metadata": {
  "kernelspec": {
   "display_name": "Python 3",
   "language": "python",
   "name": "python3"
  },
  "language_info": {
   "codemirror_mode": {
    "name": "ipython",
    "version": 3
   },
   "file_extension": ".py",
   "mimetype": "text/x-python",
   "name": "python",
   "nbconvert_exporter": "python",
   "pygments_lexer": "ipython3",
   "version": "3.8.5"
  }
 },
 "nbformat": 4,
 "nbformat_minor": 4
}
